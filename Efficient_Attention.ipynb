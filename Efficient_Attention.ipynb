{
  "cells": [
    {
      "cell_type": "markdown",
      "metadata": {
        "colab_type": "text",
        "id": "view-in-github"
      },
      "source": [
        "<a href=\"https://colab.research.google.com/github/mrigankpawagi/EfficientAttention-TermPaper/blob/main/Efficient_Attention.ipynb\" target=\"_parent\"><img src=\"https://colab.research.google.com/assets/colab-badge.svg\" alt=\"Open In Colab\"/></a>"
      ]
    },
    {
      "cell_type": "markdown",
      "metadata": {
        "id": "IT2uXIBELQ0f"
      },
      "source": [
        "Contributors: Rohit Jorige, Mrigank Pawagi, Nagasai, Sahil Chaudhary\n",
        "\n",
        "Advisor: Dhruva Kashyap\n",
        "\n",
        "**Efficient Attention**\n",
        "\n",
        "The dominant sequence transduction models are based on complex recurrent or convulational neural networks that include an encoder and decoder. Vashwani et. al. proposed new simple network architecture, the Transformer based solely on attention mechanism dispensing with recurrence and convulations entirely. There is a scope of improvement on the mechanism proposed by vaswant et. al.\n",
        "\n",
        "Attention is a very important mechanism introduce in the field of LLMs and understanding the improvement in attention is very important. The time complexity of simple attention mechanism is quadratic in nature and its a problematic time complexity for a very large number of data. Thus, Approv vyas et. al. proposed a linear transformer for the same introducing kernels to similarity function.\n",
        "\n",
        "This Google Collab includes the experiments done around\n",
        "1. Attention\n",
        "2. Linear Transformer\n",
        "3. Improving attention using LoRA\n",
        "4. (And others???)\n",
        "\n",
        "We have tried various experiments around MNIST, cifar-10 and compare the time required to perform forward and backward pass for variety of sequence lengths and batch sizes.\n",
        "\n",
        "**Credits**\n",
        "1. https://github.com/idiap/fast-transformers?tab=readme-ov-file\n",
        "2. https://github.com/lucidrains/linear-attention-transformer\n",
        "3. https://github.com/EugenHotaj/pytorch-generative/blob/master/pytorch_generative/nn/attention.py\n",
        "4. https://github.com/davidsvy/cosformer-pytorch\n",
        "5. https://github.com/kyle-gao/TF_Transformer\n",
        "\n",
        "**Papers Followed:**\n",
        "1. Attention is all you need: https://arxiv.org/pdf/1706.03762.pdf\n",
        "2. Transformers are RNNs: https: //arxiv.org/pdf/2006.16236.pdf\n",
        "3. LoRA: https://arxiv.org/pdf/2106.09685.pdf"
      ]
    },
    {
      "cell_type": "markdown",
      "metadata": {
        "id": "G0mo0btDOnOs"
      },
      "source": [
        "# Installation and First Steps\n",
        "The installation is directly from PyPI. This will take several minutes since it compiles several custom CUDA kernels, not only for linear autoregressive attention. Maybe grab a coffee (if you are into these things).\n",
        "\n",
        "Bare with me. It takes 20 minutes to just install it."
      ]
    },
    {
      "cell_type": "code",
      "execution_count": 1,
      "metadata": {
        "colab": {
          "base_uri": "https://localhost:8080/"
        },
        "id": "YSW2PtZoLPsv",
        "outputId": "4ce165ec-73cb-45c4-f22f-08d81a0d9626"
      },
      "outputs": [
        {
          "name": "stdout",
          "output_type": "stream",
          "text": [
            "Defaulting to user installation because normal site-packages is not writeable\n",
            "Requirement already satisfied: pytorch-fast-transformers in /home/mrigankp/.local/lib/python3.10/site-packages (0.4.0)\n",
            "Requirement already satisfied: torch in /home/mrigankp/.local/lib/python3.10/site-packages (from pytorch-fast-transformers) (2.1.1+cu118)\n",
            "Requirement already satisfied: sympy in /home/mrigankp/.local/lib/python3.10/site-packages (from torch->pytorch-fast-transformers) (1.12)\n",
            "Requirement already satisfied: filelock in /home/mrigankp/.local/lib/python3.10/site-packages (from torch->pytorch-fast-transformers) (3.9.0)\n",
            "Requirement already satisfied: triton==2.1.0 in /home/mrigankp/.local/lib/python3.10/site-packages (from torch->pytorch-fast-transformers) (2.1.0)\n",
            "Requirement already satisfied: fsspec in /home/mrigankp/.local/lib/python3.10/site-packages (from torch->pytorch-fast-transformers) (2023.9.0)\n",
            "Requirement already satisfied: jinja2 in /home/mrigankp/.local/lib/python3.10/site-packages (from torch->pytorch-fast-transformers) (3.1.2)\n",
            "Requirement already satisfied: typing-extensions in /home/mrigankp/.local/lib/python3.10/site-packages (from torch->pytorch-fast-transformers) (4.8.0)\n",
            "Requirement already satisfied: networkx in /home/mrigankp/.local/lib/python3.10/site-packages (from torch->pytorch-fast-transformers) (3.1)\n",
            "Requirement already satisfied: MarkupSafe>=2.0 in /home/mrigankp/.local/lib/python3.10/site-packages (from jinja2->torch->pytorch-fast-transformers) (2.1.5)\n",
            "Requirement already satisfied: mpmath>=0.19 in /home/mrigankp/.local/lib/python3.10/site-packages (from sympy->torch->pytorch-fast-transformers) (1.3.0)\n"
          ]
        }
      ],
      "source": [
        "!pip install pytorch-fast-transformers"
      ]
    },
    {
      "cell_type": "markdown",
      "metadata": {
        "id": "q7tsd_agQsy2"
      },
      "source": [
        "Try validating freshly installed package by creating a small transformer encoder and running it on dummy data."
      ]
    },
    {
      "cell_type": "code",
      "execution_count": 3,
      "metadata": {
        "id": "0FNJ2mEKetE-"
      },
      "outputs": [],
      "source": [
        "import numpy as np\n",
        "import torch\n",
        "import torchvision\n",
        "from torchvision.datasets import MNIST\n",
        "from torchvision import transforms\n",
        "from torch.utils.data import DataLoader"
      ]
    },
    {
      "cell_type": "code",
      "execution_count": 4,
      "metadata": {
        "colab": {
          "base_uri": "https://localhost:8080/"
        },
        "id": "uLyaAYJw-RL5",
        "outputId": "89cb7e62-7756-4077-f6e2-54e583118e68"
      },
      "outputs": [],
      "source": [
        "#Load MNIST\n",
        "transform = transforms.Compose([transforms.ToTensor()])\n",
        "batch_size = 64\n",
        "train_dataset = MNIST(root='./data', train=True, download=True, transform=transform)\n",
        "test_dataset = MNIST(root='./data', train=False, download=True, transform=transform)\n",
        "train_dataloader = DataLoader(\n",
        "    train_dataset, batch_size=batch_size, shuffle=True, num_workers=2\n",
        ")\n",
        "test_dataloader = DataLoader(\n",
        "    test_dataset, batch_size=batch_size, shuffle=False, num_workers=2\n",
        ")\n",
        "\n"
      ]
    },
    {
      "cell_type": "code",
      "execution_count": 5,
      "metadata": {
        "colab": {
          "base_uri": "https://localhost:8080/"
        },
        "id": "VM3ShNm2MF7x",
        "outputId": "648e6596-7d5f-4aeb-faf0-fad26ba7f0ac"
      },
      "outputs": [
        {
          "name": "stdout",
          "output_type": "stream",
          "text": [
            "If you reached here, everything works torch.Size([10, 100, 128])\n"
          ]
        }
      ],
      "source": [
        "from fast_transformers.builders import TransformerEncoderBuilder\n",
        "from fast_transformers.masking import LengthMask, TriangularCausalMask\n",
        "import torch\n",
        "\n",
        "model = TransformerEncoderBuilder.from_kwargs(\n",
        "    n_layers=4,\n",
        "    n_heads=4,\n",
        "    feed_forward_dimensions=128,\n",
        "    query_dimensions=32,\n",
        "    value_dimensions=32,\n",
        "    attention_type=\"full\" # this means normal softmax attention\n",
        ").get()\n",
        "\n",
        "x = torch.rand(\n",
        "    10,  # batch size\n",
        "    100, # sequence length\n",
        "    128  # feature dimensions\n",
        ")\n",
        "y = model(x) # calling without masks which means attend to everything\n",
        "y = model(\n",
        "    x,\n",
        "    attn_mask=TriangularCausalMask(100),   # causal masking\n",
        "    length_mask=LengthMask(torch.tensor([\n",
        "        100, 70, 60, 30, 80, 100,          # The sequence length for every\n",
        "        50, 40, 10, 20                     # sample in the batch\n",
        "    ]))\n",
        ")\n",
        "print(\"If you reached here, everything works\", y.shape)"
      ]
    },
    {
      "cell_type": "markdown",
      "metadata": {
        "id": "e4ddumEVf-rk"
      },
      "source": [
        "#Autoregressive Generation for MNIST\n",
        "\n",
        "We define two modules for autoregressive image generation for general purposes. One uses a recurrent formulation(since we are trying to prove Linear Transformers are RNNS) AND the other similar to the default PyTourch implementation that just accepts the whole sequence.\n",
        "\n",
        "Both of the implementation involves wrapping a transformer with an input embedding layer and a prediction layer."
      ]
    },
    {
      "cell_type": "code",
      "execution_count": 6,
      "metadata": {
        "id": "3IikL7Ynf7PY"
      },
      "outputs": [],
      "source": [
        "import math\n",
        "from fast_transformers.builders import RecurrentEncoderBuilder\n",
        "\n",
        "class RecurrentGenerator(torch.nn.Module):\n",
        "    class PositionalEncoding(torch.nn.Module):\n",
        "        def __init__(self, d_model, dropout=0.0, max_len=5000):\n",
        "            super(RecurrentGenerator.PositionalEncoding, self).__init__()\n",
        "            self.dropout = torch.nn.Dropout(p=dropout)\n",
        "            self.d_model = d_model\n",
        "            pe = torch.zeros(max_len, d_model)\n",
        "            position = torch.arange(0, max_len, dtype=torch.float).unsqueeze(1)\n",
        "            div_term = torch.exp(torch.arange(0, d_model, 2).float() * (-math.log(10000.0) / d_model))\n",
        "            pe[:, 0::2] = torch.sin(position * div_term)\n",
        "            pe[:, 1::2] = torch.cos(position * div_term)\n",
        "            pe = pe.unsqueeze(0)\n",
        "            self.register_buffer('pe', pe)\n",
        "\n",
        "        def forward(self, x, i):\n",
        "            pos_embedding =  self.pe[0, i:i+1]\n",
        "            x = torch.cat(\n",
        "                [x, pos_embedding.expand_as(x)],\n",
        "                dim=1\n",
        "            )\n",
        "            return self.dropout(x)\n",
        "\n",
        "    def __init__(self, d_model, sequence_length, mixtures,\n",
        "                 attention_type=\"full\", n_layers=4, n_heads=4,\n",
        "                 d_query=32, dropout=0.1, softmax_temp=None,\n",
        "                 attention_dropout=0.1):\n",
        "        super(RecurrentGenerator, self).__init__()\n",
        "\n",
        "        self.pos_embedding = self.PositionalEncoding(\n",
        "            d_model//2,\n",
        "            max_len=sequence_length\n",
        "        )\n",
        "        self.value_embedding = torch.nn.Embedding(\n",
        "            256,\n",
        "            d_model//2\n",
        "        )\n",
        "        self.transformer = RecurrentEncoderBuilder.from_kwargs(\n",
        "            attention_type=attention_type,\n",
        "            n_layers=n_layers,\n",
        "            n_heads=n_heads,\n",
        "            feed_forward_dimensions=n_heads*d_query*4,\n",
        "            query_dimensions=d_query,\n",
        "            value_dimensions=d_query,\n",
        "            dropout=dropout,\n",
        "            softmax_temp=softmax_temp,\n",
        "            attention_dropout=attention_dropout\n",
        "        ).get()\n",
        "        self.predictor = torch.nn.Linear(\n",
        "            d_model,\n",
        "            mixtures * 3\n",
        "        )\n",
        "\n",
        "    def forward(self, x, i=0, memory=None):\n",
        "        x = x.view(x.shape[0])\n",
        "        x = self.value_embedding(x)\n",
        "        x = self.pos_embedding(x, i)\n",
        "        y_hat, memory = self.transformer(x, memory)\n",
        "        y_hat = self.predictor(y_hat)\n",
        "\n",
        "        return y_hat, memory\n"
      ]
    },
    {
      "cell_type": "code",
      "execution_count": 7,
      "metadata": {
        "id": "RUPrP4-zf90g"
      },
      "outputs": [],
      "source": [
        "class Generator(torch.nn.Module):\n",
        "    class PositionalEncoding(torch.nn.Module):\n",
        "        def __init__(self, d_model, dropout=0.0, max_len=5000):\n",
        "            super(Generator.PositionalEncoding, self).__init__()\n",
        "            self.dropout = torch.nn.Dropout(p=dropout)\n",
        "            self.d_model = d_model\n",
        "            pe = torch.zeros(max_len, d_model)\n",
        "            position = torch.arange(0, max_len, dtype=torch.float).unsqueeze(1)\n",
        "            div_term = torch.exp(torch.arange(0, d_model, 2).float() * (-math.log(10000.0) / d_model))\n",
        "            pe[:, 0::2] = torch.sin(position * div_term)\n",
        "            pe[:, 1::2] = torch.cos(position * div_term)\n",
        "            pe = pe.unsqueeze(0)\n",
        "            self.register_buffer('pe', pe)\n",
        "\n",
        "        def forward(self, x):\n",
        "            pos_embedding =  self.pe[:, :x.size(1), :]\n",
        "            pos_embedding = torch.repeat_interleave(pos_embedding, x.shape[0], dim=0)\n",
        "            x =  torch.cat([x, pos_embedding], dim=2)\n",
        "            return self.dropout(x)\n",
        "\n",
        "    def __init__(self, d_model, sequence_length, mixtures,\n",
        "                 attention_type=\"full\", n_layers=4, n_heads=4,\n",
        "                 d_query=32, dropout=0.1, softmax_temp=None,\n",
        "                 attention_dropout=0.1):\n",
        "        super(Generator, self).__init__()\n",
        "\n",
        "        self.pos_embedding = self.PositionalEncoding(\n",
        "            d_model//2,\n",
        "            max_len=sequence_length\n",
        "        )\n",
        "        self.value_embedding = torch.nn.Embedding(\n",
        "            256,\n",
        "            d_model//2\n",
        "        )\n",
        "\n",
        "        self.transformer = TransformerEncoderBuilder.from_kwargs(\n",
        "            attention_type=attention_type,\n",
        "            n_layers=n_layers,\n",
        "            n_heads=n_heads,\n",
        "            feed_forward_dimensions=n_heads*d_query*4,\n",
        "            query_dimensions=d_query,\n",
        "            value_dimensions=d_query,\n",
        "            dropout=dropout,\n",
        "            softmax_temp=softmax_temp,\n",
        "            attention_dropout=attention_dropout\n",
        "        ).get()\n",
        "\n",
        "        hidden_size = n_heads*d_query\n",
        "        self.predictor = torch.nn.Linear(\n",
        "            hidden_size,\n",
        "            mixtures * 3\n",
        "        )\n",
        "\n",
        "    def forward(self, x):\n",
        "        x = x.view(x.shape[0], -1)\n",
        "        x = self.value_embedding(x)\n",
        "        x = self.pos_embedding(x)\n",
        "        triangular_mask = TriangularCausalMask(x.shape[1], device=x.device)\n",
        "        y_hat = self.transformer(x, attn_mask=triangular_mask)\n",
        "        y_hat = self.predictor(y_hat)\n",
        "\n",
        "        return y_hat"
      ]
    },
    {
      "cell_type": "markdown",
      "metadata": {
        "id": "6ktNWXnjSgZU"
      },
      "source": []
    },
    {
      "cell_type": "code",
      "execution_count": 8,
      "metadata": {
        "id": "O0KgXDqVQ19u"
      },
      "outputs": [],
      "source": [
        "def sample_mol(y_hat, num_classes=256):\n",
        "    \"\"\"Sample from mixture of logistics.\n",
        "\n",
        "    y_hat: NxC where C is 3*number of logistics\n",
        "    \"\"\"\n",
        "    assert len(y_hat.shape) == 2\n",
        "\n",
        "    N = y_hat.size(0)\n",
        "    nr_mix = y_hat.size(1) // 3\n",
        "\n",
        "    probs = torch.softmax(y_hat[:, :nr_mix], dim=-1)\n",
        "    means = y_hat[:, nr_mix:2 * nr_mix]\n",
        "    scales = torch.nn.functional.elu(y_hat[:, 2*nr_mix:3*nr_mix]) + 1.0001\n",
        "\n",
        "    indices = torch.multinomial(probs, 1).squeeze()\n",
        "    batch_indices = torch.arange(N, device=probs.device)\n",
        "    mu = means[batch_indices, indices]\n",
        "    s = scales[batch_indices, indices]\n",
        "    u = torch.rand(N, device=probs.device)\n",
        "    preds = mu + s*(torch.log(u) - torch.log(1-u))\n",
        "\n",
        "    return torch.min(\n",
        "        torch.max(\n",
        "            torch.round((preds+1)/2*(num_classes-1)),\n",
        "            preds.new_zeros(1),\n",
        "        ),\n",
        "        preds.new_ones(1)*(num_classes-1)\n",
        "    ).long().view(N, 1)\n",
        "\n",
        "\n",
        "def predict_with_recurrent(model, images, n):\n",
        "    memory = None\n",
        "    y_hat = []\n",
        "    x_hat = []\n",
        "\n",
        "    with torch.no_grad():\n",
        "        for i in range(n):\n",
        "\n",
        "            x_hat.append(images[:,i:i+1])\n",
        "            yi, memory = model(x_hat[i], i=i, memory=memory)\n",
        "            y_hat.append(yi)\n",
        "\n",
        "        for i in range(n, images.shape[1]):\n",
        "            x_hat.append(sample_mol(y_hat[-1], 256))\n",
        "            yi, memory = model(x_hat[-1], i=i, memory=memory)\n",
        "            y_hat.append(yi)\n",
        "\n",
        "        x_hat.append(sample_mol(y_hat[-1], 256))\n",
        "        x_hat = torch.stack(x_hat, dim=1)\n",
        "\n",
        "    return x_hat\n",
        "\n",
        "\n",
        "def predict(model, images, n):\n",
        "    N, L = images.shape\n",
        "    x_hat = images.new_zeros(N, L+1, dtype=torch.long)\n",
        "    x_hat[:, :n] = images[:, :n]\n",
        "    with torch.no_grad():\n",
        "        for i in range(n, L):\n",
        "            y_hat = model(x_hat[:, :i])\n",
        "            x_hat[:, i:i+1] = sample_mol(y_hat[:,-1,:], 256)\n",
        "        x_hat[:, -1:] = sample_mol(y_hat[:,-1,:], 256)\n",
        "    return x_hat"
      ]
    },
    {
      "cell_type": "markdown",
      "metadata": {
        "id": "ACIDWF02g4aY"
      },
      "source": [
        "#Load Pretrained Models for MNIST\n",
        "\n",
        "Angelos Katharopoulos et. al has already trained the model. So we are just importing the model from google drive which they have already pretrain."
      ]
    },
    {
      "cell_type": "code",
      "execution_count": 9,
      "metadata": {
        "id": "TvC7ikDjg4KD"
      },
      "outputs": [],
      "source": [
        "import io\n",
        "import requests\n",
        "\n",
        "LINEAR_MODEL = \"https://drive.google.com/uc?export=download&id=17fc94TzytTdAwNMVCE7qOg75-CWLGi_p\"\n",
        "SOFTMAX_MODEL = \"https://drive.google.com/uc?export=download&id=1L47Ode6GxCMQbVMK33_ANjCu2iA4rf8l\"\n",
        "\n",
        "linear_weights = torch.load(io.BytesIO(requests.get(LINEAR_MODEL).content))\n",
        "softmax_weights = torch.load(io.BytesIO(requests.get(SOFTMAX_MODEL).content))"
      ]
    },
    {
      "cell_type": "code",
      "execution_count": null,
      "metadata": {
        "id": "yYldeqJiQ9lf"
      },
      "outputs": [],
      "source": []
    },
    {
      "cell_type": "markdown",
      "metadata": {
        "id": "cJTN_RjEhK2e"
      },
      "source": [
        "And Now, we can create the model and generate some images. Note that we are creating recurrent model for softmax. This means that we save all keys and values to avoid computing again which is not something easily done for every transformer implementation.\n",
        "\n",
        "On the other hand, for linear attention the state has fixed size and it is natural to implement it as a recurrent model since the Attention is causal masked.\n",
        "\n",
        "#Image Generation"
      ]
    },
    {
      "cell_type": "code",
      "execution_count": 10,
      "metadata": {
        "colab": {
          "base_uri": "https://localhost:8080/",
          "height": 326
        },
        "id": "UU65Jkd8Q0oA",
        "outputId": "57da6730-fa1f-49e8-f93b-1097abc50329"
      },
      "outputs": [
        {
          "data": {
            "text/plain": [
              "<matplotlib.image.AxesImage at 0x7db3b6392110>"
            ]
          },
          "execution_count": 10,
          "metadata": {},
          "output_type": "execute_result"
        },
        {
          "data": {
            "image/png": "[encoded data removed]",
            "text/plain": [
              "<Figure size 640x480 with 2 Axes>"
            ]
          },
          "metadata": {},
          "output_type": "display_data"
        }
      ],
      "source": [
        "linear = RecurrentGenerator(256, 783, 10, \"linear\", 8, 8)\n",
        "linear.load_state_dict(linear_weights)\n",
        "linear.eval()\n",
        "full = RecurrentGenerator(256, 783, 10, \"full\", 8, 8)\n",
        "full.load_state_dict(softmax_weights)\n",
        "full.eval()\n",
        "\n",
        "\n",
        "images_linear = predict_with_recurrent(linear, torch.zeros(1, 783, dtype=torch.int64), 1)\n",
        "images_full = predict_with_recurrent(full, torch.zeros(1, 783, dtype=torch.int64), 1)\n",
        "\n",
        "import numpy as np\n",
        "import matplotlib.pyplot as plt\n",
        "fig, ax = plt.subplots(1, 2)\n",
        "ax[0].set_title(\"Linear\")\n",
        "ax[0].imshow(images_linear[0].cpu().numpy().reshape(28, 28))\n",
        "ax[1].set_title(\"Softmax\")\n",
        "ax[1].imshow(images_full[0].cpu().numpy().reshape(28, 28))"
      ]
    },
    {
      "cell_type": "code",
      "execution_count": 11,
      "metadata": {
        "colab": {
          "base_uri": "https://localhost:8080/"
        },
        "id": "xl3n28M-dNlQ",
        "outputId": "3c05976a-b179-4aa7-a942-e6893eb65d4e"
      },
      "outputs": [
        {
          "name": "stdout",
          "output_type": "stream",
          "text": [
            "torch.Size([1, 783])\n",
            "torch.Size([1, 784, 1])\n"
          ]
        }
      ],
      "source": [
        "print(torch.zeros(1, 783, dtype=torch.int64).shape)\n",
        "print(images_linear.shape)"
      ]
    },
    {
      "cell_type": "markdown",
      "metadata": {
        "id": "Q7xbNysXhugL"
      },
      "source": [
        "#Image Completion\n",
        "\n",
        "We will sample any 5 numbers from 0-10 and access the image corresponding to it and give it as a input to predict_with_recurrent to check if it can regenerate the same image given half of the information about the image. We choose 0,1,2,3,4 to test on experiment around the occulated data."
      ]
    },
    {
      "cell_type": "markdown",
      "metadata": {
        "id": "oCa2df680ugj"
      },
      "source": [
        "The following code takes the dataset for the num 0,1,2,3,4 and visualises the dataset for the same"
      ]
    },
    {
      "cell_type": "markdown",
      "metadata": {
        "id": "gEDeUY7B1BHZ"
      },
      "source": [
        "Create occulated images of the dataset. We will now only store information about half of this image. or say, stop the data visualisation at just half."
      ]
    },
    {
      "cell_type": "code",
      "execution_count": 12,
      "metadata": {
        "id": "Ox4DgjkK5Z5e"
      },
      "outputs": [],
      "source": [
        "import pandas as pd\n",
        "\n",
        "# Replace 'your_file.csv' with the actual filename\n",
        "data = pd.read_csv('data/mnist_test.csv')\n",
        "data=np.array(data)"
      ]
    },
    {
      "cell_type": "code",
      "execution_count": 13,
      "metadata": {
        "id": "xpY6ZKr26h5v"
      },
      "outputs": [],
      "source": [
        "\n",
        "list=[]\n",
        "\n",
        "for x in data:\n",
        "    if x[0]==0:\n",
        "      list.append(x)\n",
        "      break\n",
        "for x in data:\n",
        "    if x[0]==1:\n",
        "      list.append(x)\n",
        "      break\n",
        "for x in data:\n",
        "    if x[0]==2:\n",
        "      list.append(x)\n",
        "      break\n",
        "for x in data:\n",
        "    if x[0]==3:\n",
        "      list.append(x)\n",
        "      break\n",
        "for x in data:\n",
        "    if x[0]==4:\n",
        "      list.append(x)\n",
        "      break\n",
        "\n"
      ]
    },
    {
      "cell_type": "code",
      "execution_count": 14,
      "metadata": {
        "colab": {
          "base_uri": "https://localhost:8080/",
          "height": 1000
        },
        "id": "66X7Mur194Ir",
        "outputId": "c7fdcc25-32c1-476b-f848-cf759f806088"
      },
      "outputs": [
        {
          "data": {
            "image/png": "[encoded data removed]",
            "text/plain": [
              "<Figure size 640x480 with 1 Axes>"
            ]
          },
          "metadata": {},
          "output_type": "display_data"
        },
        {
          "name": "stdout",
          "output_type": "stream",
          "text": [
            "torch.Size([28, 28])\n"
          ]
        },
        {
          "name": "stderr",
          "output_type": "stream",
          "text": [
            "/tmp/ipykernel_1529365/3498340128.py:9: UserWarning: Creating a tensor from a list of numpy.ndarrays is extremely slow. Please consider converting the list to a single numpy.ndarray with numpy.array() before converting to a tensor. (Triggered internally at ../torch/csrc/utils/tensor_new.cpp:261.)\n",
            "  x=torch.tensor([x])\n"
          ]
        },
        {
          "data": {
            "image/png": "[encoded data removed]",
            "text/plain": [
              "<Figure size 640x480 with 1 Axes>"
            ]
          },
          "metadata": {},
          "output_type": "display_data"
        },
        {
          "name": "stdout",
          "output_type": "stream",
          "text": [
            "torch.Size([28, 28])\n"
          ]
        },
        {
          "data": {
            "image/png": "[encoded data removed]",
            "text/plain": [
              "<Figure size 640x480 with 1 Axes>"
            ]
          },
          "metadata": {},
          "output_type": "display_data"
        },
        {
          "name": "stdout",
          "output_type": "stream",
          "text": [
            "torch.Size([28, 28])\n"
          ]
        },
        {
          "data": {
            "image/png": "[encoded data removed]",
            "text/plain": [
              "<Figure size 640x480 with 1 Axes>"
            ]
          },
          "metadata": {},
          "output_type": "display_data"
        },
        {
          "name": "stdout",
          "output_type": "stream",
          "text": [
            "torch.Size([28, 28])\n"
          ]
        },
        {
          "data": {
            "image/png": "[encoded data removed]",
            "text/plain": [
              "<Figure size 640x480 with 1 Axes>"
            ]
          },
          "metadata": {},
          "output_type": "display_data"
        },
        {
          "name": "stdout",
          "output_type": "stream",
          "text": [
            "torch.Size([28, 28])\n"
          ]
        }
      ],
      "source": [
        "for x in list:\n",
        "  x=x[1:]\n",
        "  # x=torch.tensor([x])\n",
        "  x=x.reshape(28, 28)\n",
        "   # Display the image using matplotlib\n",
        "  plt.imshow(x, cmap='gray')  # Use 'gray' for grayscale images\n",
        "  plt.title(\"Image\")\n",
        "  plt.show()\n",
        "  x=torch.tensor([x])\n",
        "  x=x.squeeze()\n",
        "  print(x.shape)"
      ]
    },
    {
      "cell_type": "code",
      "execution_count": 15,
      "metadata": {
        "id": "FNGIwsQUsCVX"
      },
      "outputs": [],
      "source": [
        "def occlude_half_image2(image):\n",
        "  \"\"\"Ocludes half of the image (top half by default).\n",
        "\n",
        "  Args:\n",
        "      image: A PyTorch tensor representing the image (channels, height, width).\n",
        "\n",
        "  Returns:\n",
        "      A PyTorch tensor representing the occluded image.\n",
        "  \"\"\"\n",
        "  image_size = image.shape[1]  # Get image height or width (assuming square images)\n",
        "  mask = torch.zeros_like(image)  # Create a mask with the same size as the image\n",
        "  mask[:, :image_size // 2] = 1  # Set half of the mask to 1 (top half)\n",
        "  return image * mask  # Apply the mask\n",
        "\n",
        "def occlude_half_image(image):\n",
        "    \"\"\"\n",
        "    Ocludes half of the image (top half by default).\n",
        "\n",
        "    Args:\n",
        "        image: A PyTorch tensor representing the image (channels, height, width).\n",
        "\n",
        "    Returns:\n",
        "        A PyTorch tensor representing the occluded image.\n",
        "    \"\"\"\n",
        "\n",
        "    # Get image height\n",
        "    image_size = image.shape[1]\n",
        "\n",
        "    # Create a mask with the same size as the image\n",
        "    mask = torch.zeros_like(image)\n",
        "\n",
        "    # Set half of the mask to 1 (top half by default)\n",
        "    mask[:, :image_size // 2] = 1\n",
        "\n",
        "    # Apply the mask to occlude half of the image\n",
        "    return image * mask\n"
      ]
    },
    {
      "cell_type": "code",
      "execution_count": 16,
      "metadata": {
        "colab": {
          "base_uri": "https://localhost:8080/",
          "height": 1000
        },
        "id": "KZGXbpHYArgR",
        "outputId": "62f5103e-3c68-4674-c167-65e69e7fcf08"
      },
      "outputs": [
        {
          "data": {
            "image/png": "[encoded data removed]",
            "text/plain": [
              "<Figure size 640x480 with 1 Axes>"
            ]
          },
          "metadata": {},
          "output_type": "display_data"
        },
        {
          "name": "stdout",
          "output_type": "stream",
          "text": [
            "torch.Size([28, 28])\n"
          ]
        },
        {
          "data": {
            "image/png": "[encoded data removed]",
            "text/plain": [
              "<Figure size 640x480 with 1 Axes>"
            ]
          },
          "metadata": {},
          "output_type": "display_data"
        },
        {
          "name": "stdout",
          "output_type": "stream",
          "text": [
            "torch.Size([28, 28])\n"
          ]
        },
        {
          "data": {
            "image/png": "[encoded data removed]",
            "text/plain": [
              "<Figure size 640x480 with 1 Axes>"
            ]
          },
          "metadata": {},
          "output_type": "display_data"
        },
        {
          "name": "stdout",
          "output_type": "stream",
          "text": [
            "torch.Size([28, 28])\n"
          ]
        },
        {
          "data": {
            "image/png": "[encoded data removed]",
            "text/plain": [
              "<Figure size 640x480 with 1 Axes>"
            ]
          },
          "metadata": {},
          "output_type": "display_data"
        },
        {
          "name": "stdout",
          "output_type": "stream",
          "text": [
            "torch.Size([28, 28])\n"
          ]
        },
        {
          "data": {
            "image/png": "[encoded data removed]",
            "text/plain": [
              "<Figure size 640x480 with 1 Axes>"
            ]
          },
          "metadata": {},
          "output_type": "display_data"
        },
        {
          "name": "stdout",
          "output_type": "stream",
          "text": [
            "torch.Size([28, 28])\n"
          ]
        }
      ],
      "source": [
        "\n",
        "images_to_visualize = []\n",
        "\n",
        "for label in range(5):  # Collect images with labels 0 to 4 (inclusive)\n",
        "  for x in data:\n",
        "    if x[0] == label:\n",
        "      images_to_visualize.append(x[1:])  # Extract image data and skip label\n",
        "      break  # Stop after finding one image for each label\n",
        "\n",
        "for image in images_to_visualize:\n",
        "  image_tensor = torch.from_numpy(image.reshape(28, 28))  # Create tensor\n",
        "  occluded_image = occlude_half_image(image_tensor.unsqueeze(0))  # Add batch dim, occlude\n",
        "  occluded_image = occluded_image.squeeze()  # Remove batch dim (if needed)\n",
        "\n",
        "  plt.imshow(occluded_image.numpy(), cmap='gray')\n",
        "  plt.title(f\"Label: {label} (Occluded)\")\n",
        "  plt.show()\n",
        "\n",
        "  print(occluded_image.shape)"
      ]
    },
    {
      "cell_type": "code",
      "execution_count": 17,
      "metadata": {
        "colab": {
          "base_uri": "https://localhost:8080/"
        },
        "id": "XBWQu4jpDYQm",
        "outputId": "11ba92ff-891d-488b-d470-5376790bd050"
      },
      "outputs": [
        {
          "name": "stdout",
          "output_type": "stream",
          "text": [
            "torch.Size([1, 28, 28])\n"
          ]
        }
      ],
      "source": [
        "\n",
        "occluded_dataset=[]\n",
        "for image in images_to_visualize:\n",
        "  image_tensor = torch.from_numpy(image.reshape(28, 28))  # Create tensor\n",
        "  occluded_image = occlude_half_image(image_tensor.unsqueeze(0))\n",
        "  occluded_dataset.append(occluded_image)  # Add batch dim, occlude\n",
        "\n",
        "print(occluded_dataset[0].shape)\n"
      ]
    },
    {
      "cell_type": "markdown",
      "metadata": {
        "id": "lbP2V6gG3BOI"
      },
      "source": [
        "Now test the model"
      ]
    },
    {
      "cell_type": "code",
      "execution_count": 18,
      "metadata": {
        "id": "faFHTkuD3A39"
      },
      "outputs": [],
      "source": [
        "def prepare_image_for_model(image):\n",
        "  \"\"\"\n",
        "  Flattens the image tensor for model input.\n",
        "\n",
        "  Args:\n",
        "      image: A PyTorch tensor representing the image (channels, height, width).\n",
        "\n",
        "  Returns:\n",
        "      A PyTorch tensor representing the flattened image (channels * height * width).\n",
        "  \"\"\"\n",
        "\n",
        "  # Assuming the image has a single channel (modify if channels > 1)\n",
        "  return image.view(image.shape[0], -1)  # Flatten all dimensions except the first (batch size)\n",
        "\n"
      ]
    },
    {
      "cell_type": "code",
      "execution_count": 19,
      "metadata": {
        "colab": {
          "base_uri": "https://localhost:8080/"
        },
        "id": "noJ8nt-j4PcJ",
        "outputId": "7cd97ce8-ef38-4ff5-a28a-18680955f679"
      },
      "outputs": [
        {
          "name": "stdout",
          "output_type": "stream",
          "text": [
            "torch.Size([1, 783])\n"
          ]
        }
      ],
      "source": [
        "flatten_image=[]\n",
        "for images in occluded_dataset:\n",
        "  flat=prepare_image_for_model(images)\n",
        "  flat=flat[:,:-1]\n",
        "  flatten_image.append(flat)\n",
        "\n",
        "print(flatten_image[0].shape)"
      ]
    },
    {
      "cell_type": "code",
      "execution_count": 20,
      "metadata": {
        "colab": {
          "base_uri": "https://localhost:8080/",
          "height": 1000
        },
        "id": "KC8F_-2yy4Li",
        "outputId": "0f1c40a4-468e-46f2-e6ed-25ea451275e1"
      },
      "outputs": [
        {
          "data": {
            "image/png": "[encoded data removed]",
            "text/plain": [
              "<Figure size 640x480 with 2 Axes>"
            ]
          },
          "metadata": {},
          "output_type": "display_data"
        },
        {
          "data": {
            "image/png": "[encoded data removed]",
            "text/plain": [
              "<Figure size 640x480 with 2 Axes>"
            ]
          },
          "metadata": {},
          "output_type": "display_data"
        },
        {
          "data": {
            "image/png": "[encoded data removed]",
            "text/plain": [
              "<Figure size 640x480 with 2 Axes>"
            ]
          },
          "metadata": {},
          "output_type": "display_data"
        },
        {
          "data": {
            "image/png": "[encoded data removed]",
            "text/plain": [
              "<Figure size 640x480 with 2 Axes>"
            ]
          },
          "metadata": {},
          "output_type": "display_data"
        },
        {
          "data": {
            "image/png": "[encoded data removed]",
            "text/plain": [
              "<Figure size 640x480 with 2 Axes>"
            ]
          },
          "metadata": {},
          "output_type": "display_data"
        }
      ],
      "source": [
        "\n",
        "\n",
        "linear = RecurrentGenerator(256, 783, 10, \"linear\", 8, 8)\n",
        "linear.load_state_dict(linear_weights)\n",
        "linear.eval()\n",
        "full = RecurrentGenerator(256, 783, 10, \"full\", 8, 8)\n",
        "full.load_state_dict(softmax_weights)\n",
        "full.eval()\n",
        "\n",
        "for i in range(5):\n",
        "  image=flatten_image[i]\n",
        "  images_linear = predict_with_recurrent(linear, image, 392)\n",
        "  images_full = predict_with_recurrent(full, image, 392)\n",
        "\n",
        "  import numpy as np\n",
        "  import matplotlib.pyplot as plt\n",
        "  fig, ax = plt.subplots(1, 2)\n",
        "  ax[0].set_title(\"Linear\")\n",
        "  ax[0].imshow(images_linear[0].cpu().numpy().reshape(28, 28))\n",
        "  ax[1].set_title(\"Softmax\")\n",
        "  ax[1].imshow(images_full[0].cpu().numpy().reshape(28, 28))"
      ]
    },
    {
      "cell_type": "markdown",
      "metadata": {
        "id": "AvantEK5S5bX"
      },
      "source": [
        "#Testing accuracy in MNIST for linear and softmax based attention\n",
        "\n",
        "I mean of course both of the models were able to complete the task but to test which one is better what we can do is complete the image for all of the possible images in the training data and now train a new neural network on this data and then test the MNIST test dataset."
      ]
    },
    {
      "cell_type": "markdown",
      "metadata": {
        "id": "DQ6NnFahTf-S"
      },
      "source": [
        "Load the whole training MNIST dataset"
      ]
    },
    {
      "cell_type": "code",
      "execution_count": 24,
      "metadata": {
        "colab": {
          "base_uri": "https://localhost:8080/"
        },
        "id": "_7cy9ghqS44l",
        "outputId": "02ded213-530e-4426-bd41-965b92f2f526"
      },
      "outputs": [
        {
          "name": "stdout",
          "output_type": "stream",
          "text": [
            "600\n"
          ]
        }
      ],
      "source": [
        "import pandas as pd\n",
        "\n",
        "# Replace 'your_file.csv' with the actual filename\n",
        "data = pd.read_csv('data/mnist_train_small.csv')\n",
        "data=np.array(data)\n",
        "\n",
        "train_x=[ ]\n",
        "train_y=[ ]\n",
        "\n",
        "for x in data[:600]:\n",
        "  x=x[1:]\n",
        "  # x=torch.tensor([x])\n",
        "  x=x.reshape(28, 28)\n",
        "  # x=torch.tensor([x])\n",
        "  # x=x.squeeze()\n",
        "  train_x.append(x)\n",
        "\n",
        "print(len(train_x))\n",
        "\n"
      ]
    },
    {
      "cell_type": "code",
      "execution_count": 25,
      "metadata": {
        "colab": {
          "base_uri": "https://localhost:8080/"
        },
        "id": "erVG3Rl0k5Nh",
        "outputId": "a6799d37-c809-4755-b818-4175f605d123"
      },
      "outputs": [
        {
          "name": "stdout",
          "output_type": "stream",
          "text": [
            "600\n"
          ]
        }
      ],
      "source": [
        "for x in data[:600]:\n",
        "  x=x[0]\n",
        "  train_y.append(x)\n",
        "\n",
        "print(len(train_y))"
      ]
    },
    {
      "cell_type": "markdown",
      "metadata": {
        "id": "06TYPUxjwToT"
      },
      "source": [
        "Occlude the whole set of training data and prepare for completion"
      ]
    },
    {
      "cell_type": "code",
      "execution_count": 26,
      "metadata": {
        "colab": {
          "base_uri": "https://localhost:8080/"
        },
        "id": "hmcstGtLNodZ",
        "outputId": "adf924a9-4833-4009-e115-a26699c44b3e"
      },
      "outputs": [
        {
          "name": "stdout",
          "output_type": "stream",
          "text": [
            "600\n"
          ]
        }
      ],
      "source": [
        "occluded_dataset=[]\n",
        "for image in train_x:\n",
        "  image_tensor = torch.from_numpy(image.reshape(28, 28))  # Create tensor\n",
        "  occluded_image = occlude_half_image(image_tensor.unsqueeze(0))\n",
        "  occluded_dataset.append(occluded_image)  # Add batch dim, occlude\n",
        "\n",
        "print(len(occluded_dataset))\n"
      ]
    },
    {
      "cell_type": "code",
      "execution_count": 27,
      "metadata": {
        "colab": {
          "base_uri": "https://localhost:8080/"
        },
        "id": "5iEmoVoeY6gh",
        "outputId": "d8fa13fe-32de-4665-c995-a8b03b2bb2f6"
      },
      "outputs": [
        {
          "name": "stdout",
          "output_type": "stream",
          "text": [
            "600\n",
            "torch.Size([1, 783])\n"
          ]
        }
      ],
      "source": [
        "flatten_image=[]\n",
        "for images in occluded_dataset:\n",
        "  flat=prepare_image_for_model(images)\n",
        "  flat=flat[:,:-1]\n",
        "  flatten_image.append(flat)\n",
        "print(len(flatten_image))\n",
        "print(flatten_image[0].shape)"
      ]
    },
    {
      "cell_type": "markdown",
      "metadata": {
        "id": "iblf3Gf0NoAw"
      },
      "source": [
        "Complete the images."
      ]
    },
    {
      "cell_type": "code",
      "execution_count": 28,
      "metadata": {
        "colab": {
          "base_uri": "https://localhost:8080/"
        },
        "id": "_5wRuXGCNvcY",
        "outputId": "05e29cb5-7fc2-41a3-c3b1-54e0bc9e988d"
      },
      "outputs": [
        {
          "name": "stdout",
          "output_type": "stream",
          "text": [
            "0\n",
            "1\n",
            "2\n",
            "3\n",
            "4\n",
            "5\n",
            "6\n",
            "7\n",
            "8\n",
            "9\n",
            "10\n",
            "11\n",
            "12\n",
            "13\n",
            "14\n",
            "15\n",
            "16\n",
            "17\n",
            "18\n",
            "19\n",
            "20\n",
            "21\n",
            "22\n",
            "23\n",
            "24\n",
            "25\n",
            "26\n",
            "27\n",
            "28\n",
            "29\n",
            "30\n",
            "31\n",
            "32\n",
            "33\n",
            "34\n",
            "35\n",
            "36\n",
            "37\n",
            "38\n",
            "39\n",
            "40\n",
            "41\n",
            "42\n",
            "43\n",
            "44\n",
            "45\n",
            "46\n",
            "47\n",
            "48\n",
            "49\n",
            "50\n",
            "51\n",
            "52\n",
            "53\n",
            "54\n",
            "55\n",
            "56\n",
            "57\n",
            "58\n",
            "59\n",
            "60\n",
            "61\n",
            "62\n",
            "63\n",
            "64\n",
            "65\n",
            "66\n",
            "67\n",
            "68\n",
            "69\n",
            "70\n",
            "71\n",
            "72\n",
            "73\n",
            "74\n",
            "75\n",
            "76\n",
            "77\n",
            "78\n",
            "79\n",
            "80\n",
            "81\n",
            "82\n",
            "83\n",
            "84\n",
            "85\n",
            "86\n",
            "87\n",
            "88\n",
            "89\n",
            "90\n",
            "91\n",
            "92\n",
            "93\n",
            "94\n",
            "95\n",
            "96\n",
            "97\n",
            "98\n",
            "99\n",
            "100\n",
            "101\n",
            "102\n",
            "103\n",
            "104\n",
            "105\n",
            "106\n",
            "107\n",
            "108\n",
            "109\n",
            "110\n",
            "111\n",
            "112\n",
            "113\n",
            "114\n",
            "115\n",
            "116\n",
            "117\n",
            "118\n",
            "119\n",
            "120\n",
            "121\n",
            "122\n",
            "123\n",
            "124\n",
            "125\n",
            "126\n",
            "127\n",
            "128\n",
            "129\n",
            "130\n",
            "131\n",
            "132\n",
            "133\n",
            "134\n",
            "135\n",
            "136\n",
            "137\n",
            "138\n",
            "139\n",
            "140\n",
            "141\n",
            "142\n",
            "143\n",
            "144\n",
            "145\n",
            "146\n",
            "147\n",
            "148\n",
            "149\n",
            "150\n",
            "151\n",
            "152\n",
            "153\n",
            "154\n",
            "155\n",
            "156\n",
            "157\n",
            "158\n",
            "159\n",
            "160\n",
            "161\n",
            "162\n",
            "163\n",
            "164\n",
            "165\n",
            "166\n",
            "167\n",
            "168\n",
            "169\n",
            "170\n",
            "171\n",
            "172\n",
            "173\n",
            "174\n",
            "175\n",
            "176\n",
            "177\n",
            "178\n",
            "179\n",
            "180\n",
            "181\n",
            "182\n",
            "183\n",
            "184\n",
            "185\n",
            "186\n",
            "187\n",
            "188\n",
            "189\n",
            "190\n",
            "191\n",
            "192\n",
            "193\n",
            "194\n",
            "195\n",
            "196\n",
            "197\n",
            "198\n",
            "199\n",
            "200\n",
            "201\n",
            "202\n",
            "203\n",
            "204\n",
            "205\n",
            "206\n",
            "207\n",
            "208\n",
            "209\n",
            "210\n",
            "211\n",
            "212\n",
            "213\n",
            "214\n",
            "215\n",
            "216\n",
            "217\n",
            "218\n",
            "219\n",
            "220\n",
            "221\n",
            "222\n",
            "223\n",
            "224\n",
            "225\n",
            "226\n",
            "227\n",
            "228\n",
            "229\n",
            "230\n",
            "231\n",
            "232\n",
            "233\n",
            "234\n",
            "235\n",
            "236\n",
            "237\n",
            "238\n",
            "239\n",
            "240\n",
            "241\n",
            "242\n",
            "243\n",
            "244\n",
            "245\n",
            "246\n",
            "247\n",
            "248\n",
            "249\n",
            "250\n",
            "251\n",
            "252\n",
            "253\n",
            "254\n",
            "255\n",
            "256\n",
            "257\n",
            "258\n",
            "259\n",
            "260\n",
            "261\n",
            "262\n",
            "263\n",
            "264\n",
            "265\n",
            "266\n",
            "267\n",
            "268\n",
            "269\n",
            "270\n",
            "271\n",
            "272\n",
            "273\n",
            "274\n",
            "275\n",
            "276\n",
            "277\n",
            "278\n",
            "279\n",
            "280\n",
            "281\n",
            "282\n",
            "283\n",
            "284\n",
            "285\n",
            "286\n",
            "287\n",
            "288\n",
            "289\n",
            "290\n",
            "291\n",
            "292\n",
            "293\n",
            "294\n",
            "295\n",
            "296\n",
            "297\n",
            "298\n",
            "299\n",
            "300\n",
            "301\n",
            "302\n",
            "303\n",
            "304\n",
            "305\n",
            "306\n",
            "307\n",
            "308\n",
            "309\n",
            "310\n",
            "311\n",
            "312\n",
            "313\n",
            "314\n",
            "315\n",
            "316\n",
            "317\n",
            "318\n",
            "319\n",
            "320\n",
            "321\n",
            "322\n",
            "323\n",
            "324\n",
            "325\n",
            "326\n",
            "327\n",
            "328\n",
            "329\n",
            "330\n",
            "331\n",
            "332\n",
            "333\n",
            "334\n",
            "335\n",
            "336\n",
            "337\n",
            "338\n",
            "339\n",
            "340\n",
            "341\n",
            "342\n",
            "343\n",
            "344\n",
            "345\n",
            "346\n",
            "347\n",
            "348\n",
            "349\n",
            "350\n",
            "351\n",
            "352\n",
            "353\n",
            "354\n",
            "355\n",
            "356\n",
            "357\n",
            "358\n",
            "359\n",
            "360\n",
            "361\n",
            "362\n",
            "363\n",
            "364\n",
            "365\n",
            "366\n",
            "367\n",
            "368\n",
            "369\n",
            "370\n",
            "371\n",
            "372\n",
            "373\n",
            "374\n",
            "375\n",
            "376\n",
            "377\n",
            "378\n",
            "379\n",
            "380\n",
            "381\n",
            "382\n",
            "383\n",
            "384\n",
            "385\n",
            "386\n",
            "387\n",
            "388\n",
            "389\n",
            "390\n",
            "391\n",
            "392\n",
            "393\n",
            "394\n",
            "395\n",
            "396\n",
            "397\n",
            "398\n",
            "399\n",
            "400\n",
            "401\n",
            "402\n",
            "403\n",
            "404\n",
            "405\n",
            "406\n",
            "407\n",
            "408\n",
            "409\n",
            "410\n",
            "411\n",
            "412\n",
            "413\n",
            "414\n",
            "415\n",
            "416\n",
            "417\n",
            "418\n",
            "419\n",
            "420\n",
            "421\n",
            "422\n",
            "423\n",
            "424\n",
            "425\n",
            "426\n",
            "427\n",
            "428\n",
            "429\n",
            "430\n",
            "431\n",
            "432\n",
            "433\n",
            "434\n",
            "435\n",
            "436\n",
            "437\n",
            "438\n",
            "439\n",
            "440\n",
            "441\n",
            "442\n",
            "443\n",
            "444\n",
            "445\n",
            "446\n",
            "447\n",
            "448\n",
            "449\n",
            "450\n",
            "451\n",
            "452\n",
            "453\n",
            "454\n",
            "455\n",
            "456\n",
            "457\n",
            "458\n",
            "459\n",
            "460\n",
            "461\n",
            "462\n",
            "463\n",
            "464\n",
            "465\n",
            "466\n",
            "467\n",
            "468\n",
            "469\n",
            "470\n",
            "471\n",
            "472\n",
            "473\n",
            "474\n",
            "475\n",
            "476\n",
            "477\n",
            "478\n",
            "479\n",
            "480\n",
            "481\n",
            "482\n",
            "483\n",
            "484\n",
            "485\n",
            "486\n",
            "487\n",
            "488\n",
            "489\n",
            "490\n",
            "491\n",
            "492\n",
            "493\n",
            "494\n",
            "495\n",
            "496\n",
            "497\n",
            "498\n",
            "499\n",
            "500\n",
            "501\n",
            "502\n",
            "503\n",
            "504\n",
            "505\n",
            "506\n",
            "507\n",
            "508\n",
            "509\n",
            "510\n",
            "511\n",
            "512\n",
            "513\n",
            "514\n",
            "515\n",
            "516\n",
            "517\n",
            "518\n",
            "519\n",
            "520\n",
            "521\n",
            "522\n",
            "523\n",
            "524\n",
            "525\n",
            "526\n",
            "527\n",
            "528\n",
            "529\n",
            "530\n",
            "531\n",
            "532\n",
            "533\n",
            "534\n",
            "535\n",
            "536\n",
            "537\n",
            "538\n",
            "539\n",
            "540\n",
            "541\n",
            "542\n",
            "543\n",
            "544\n",
            "545\n",
            "546\n",
            "547\n",
            "548\n",
            "549\n",
            "550\n",
            "551\n",
            "552\n",
            "553\n",
            "554\n",
            "555\n",
            "556\n",
            "557\n",
            "558\n",
            "559\n",
            "560\n",
            "561\n",
            "562\n",
            "563\n",
            "564\n",
            "565\n",
            "566\n",
            "567\n",
            "568\n",
            "569\n",
            "570\n",
            "571\n",
            "572\n",
            "573\n",
            "574\n",
            "575\n",
            "576\n",
            "577\n",
            "578\n",
            "579\n",
            "580\n",
            "581\n",
            "582\n",
            "583\n",
            "584\n",
            "585\n",
            "586\n",
            "587\n",
            "588\n",
            "589\n",
            "590\n",
            "591\n",
            "592\n",
            "593\n",
            "594\n",
            "595\n",
            "596\n",
            "597\n",
            "598\n",
            "599\n",
            "600\n",
            "600\n"
          ]
        }
      ],
      "source": [
        "\n",
        "linear = RecurrentGenerator(256, 783, 10, \"linear\", 8, 8)\n",
        "linear.load_state_dict(linear_weights)\n",
        "linear.eval()\n",
        "full = RecurrentGenerator(256, 783, 10, \"full\", 8, 8)\n",
        "full.load_state_dict(softmax_weights)\n",
        "full.eval()\n",
        "image_linear_train=[]\n",
        "image_full_train=[]\n",
        "for i in range(len(flatten_image)):\n",
        "  print(i)\n",
        "  image=flatten_image[i]\n",
        "  images_linear = predict_with_recurrent(linear, image, 392)\n",
        "  image_linear_train.append(images_linear)\n",
        "  images_full = predict_with_recurrent(full, image, 392)\n",
        "  image_full_train.append(images_full)\n",
        "\n",
        "print(len(image_linear_train))\n",
        "print(len(image_full_train))\n"
      ]
    },
    {
      "cell_type": "code",
      "execution_count": 47,
      "metadata": {},
      "outputs": [],
      "source": [
        "# save image_linear_train and image_full_train to csv files in data/\n",
        "import csv\n",
        "\n",
        "with open('data/image_linear_train.csv', 'w', newline='') as file:\n",
        "    writer = csv.writer(file)\n",
        "    for i in image_linear_train:\n",
        "        writer.writerow(i)\n",
        "        \n",
        "with open('data/image_full_train.csv', 'w', newline='') as file:\n",
        "    writer = csv.writer(file)\n",
        "    for i in image_full_train:\n",
        "        writer.writerow(i)"
      ]
    },
    {
      "cell_type": "markdown",
      "metadata": {
        "id": "iU0ynVAFNt8Q"
      },
      "source": [
        "Train any neural network\n"
      ]
    },
    {
      "cell_type": "code",
      "execution_count": 29,
      "metadata": {
        "id": "_mGPqHsxA9VS"
      },
      "outputs": [],
      "source": [
        "device = torch.device(\"cuda:0\" if torch.cuda.is_available() else \"cpu\")"
      ]
    },
    {
      "cell_type": "code",
      "execution_count": 30,
      "metadata": {
        "id": "Z0iB2XfZilQc"
      },
      "outputs": [],
      "source": [
        "import torch\n",
        "import torch.nn as nn\n",
        "import torch.nn.functional as F\n",
        "\n",
        "# Assuming train_x is a list of tensors of size (784,) and train_y is a list of integer labels\n",
        "\n",
        "# Hyperparameters\n",
        "num_epochs = 10\n",
        "batch_size = 20\n",
        "learning_rate = 0.001\n",
        "\n",
        "# Model definition\n",
        "class NeuralNetwork(nn.Module):\n",
        "    def __init__(self):\n",
        "        super(NeuralNetwork, self).__init__()\n",
        "        self.fc1 = nn.Linear(784, 128)\n",
        "        self.relu1 = nn.ReLU()\n",
        "        self.fc2 = nn.Linear(128, 64)\n",
        "        self.relu2 = nn.ReLU()\n",
        "        self.fc3 = nn.Linear(64, 10)  # 10 output neurons for 10 digits\n",
        "\n",
        "    def forward(self, x):\n",
        "        x = self.fc1(x)\n",
        "        x = self.relu1(x)\n",
        "        x = self.fc2(x)\n",
        "        x = self.relu2(x)\n",
        "        x = self.fc3(x)  # No activation for output layer (softmax will be applied later)\n",
        "        return x\n",
        "\n"
      ]
    },
    {
      "cell_type": "code",
      "execution_count": 31,
      "metadata": {
        "id": "0FEEO5r-LN0b"
      },
      "outputs": [],
      "source": [
        "def train_model(model, x, y,optimizer, loss_function, num_epochs):\n",
        "  model.train()\n",
        "  for epoch in range(num_epochs):\n",
        "    pred = model(x)\n",
        "    loss = loss_function(pred, labels)\n",
        "    predictions = torch.argmax(pred, dim=1)\n",
        "    accuracy = (predictions == labels).sum() / len(labels)\n",
        "    optimizer.zero_grad()\n",
        "    loss.backward()\n",
        "    optimizer.step()\n",
        "    print(f\"Epoch: {epoch+1}, Loss: {loss.item():.4f}, Accuracy: {accuracy}\")\n"
      ]
    },
    {
      "cell_type": "code",
      "execution_count": 68,
      "metadata": {
        "id": "9RWZFwH1_D7j"
      },
      "outputs": [],
      "source": [
        "images_linear = []\n",
        "for image in image_linear_train:\n",
        "  images_linear.append(image.squeeze())\n",
        "images_linear = torch.stack(images_linear)\n",
        "\n",
        "labels = torch.tensor(train_y)"
      ]
    },
    {
      "cell_type": "code",
      "execution_count": 33,
      "metadata": {
        "colab": {
          "base_uri": "https://localhost:8080/"
        },
        "id": "lY-wNE8RUFy1",
        "outputId": "f3124adc-5224-4a19-d276-f97212d46217"
      },
      "outputs": [
        {
          "name": "stdout",
          "output_type": "stream",
          "text": [
            "600\n",
            "torch.Size([600])\n"
          ]
        }
      ],
      "source": [
        "print(len(train_y))\n",
        "print(labels.shape)"
      ]
    },
    {
      "cell_type": "code",
      "execution_count": 34,
      "metadata": {
        "id": "NQTfvNxfAhPg"
      },
      "outputs": [],
      "source": [
        "nn_linear = NeuralNetwork()\n",
        "nn_linear.to(device)\n",
        "images_linear = images_linear.to(device, dtype=torch.float32)\n",
        "labels = labels.to(device, dtype=torch.long)\n",
        "loss_func_linear = nn.CrossEntropyLoss()\n",
        "loss_func_linear.to(device)\n",
        "optimizer_linear = torch.optim.Adam(nn_linear.parameters(), lr=learning_rate)\n"
      ]
    },
    {
      "cell_type": "code",
      "execution_count": 35,
      "metadata": {
        "colab": {
          "base_uri": "https://localhost:8080/"
        },
        "id": "ZrsUDmtuBdw7",
        "outputId": "7050935d-54d1-4943-ec76-fbf7139a056d"
      },
      "outputs": [
        {
          "name": "stdout",
          "output_type": "stream",
          "text": [
            "Epoch: 1, Loss: 9.8757, Accuracy: 0.13500000536441803\n",
            "Epoch: 2, Loss: 6.4338, Accuracy: 0.23666667938232422\n",
            "Epoch: 3, Loss: 4.4993, Accuracy: 0.2849999964237213\n",
            "Epoch: 4, Loss: 3.0018, Accuracy: 0.3933333456516266\n",
            "Epoch: 5, Loss: 2.2806, Accuracy: 0.445000022649765\n",
            "Epoch: 6, Loss: 1.8753, Accuracy: 0.46833333373069763\n",
            "Epoch: 7, Loss: 1.5940, Accuracy: 0.5250000357627869\n",
            "Epoch: 8, Loss: 1.2584, Accuracy: 0.6116666793823242\n",
            "Epoch: 9, Loss: 0.9551, Accuracy: 0.6700000166893005\n",
            "Epoch: 10, Loss: 0.7942, Accuracy: 0.7283333539962769\n"
          ]
        }
      ],
      "source": [
        "train_model(nn_linear, images_linear, labels, optimizer_linear, loss_func_linear, num_epochs)"
      ]
    },
    {
      "cell_type": "code",
      "execution_count": 36,
      "metadata": {
        "id": "KRaWalcPMAvT"
      },
      "outputs": [],
      "source": [
        "images_full = []\n",
        "for image in image_full_train:\n",
        "  images_full.append(image.squeeze())\n",
        "images_full = torch.stack(images_full)"
      ]
    },
    {
      "cell_type": "code",
      "execution_count": 37,
      "metadata": {
        "id": "PVe7rKMFMomY"
      },
      "outputs": [],
      "source": [
        "nn_full = NeuralNetwork()\n",
        "nn_full.to(device)\n",
        "images_full = images_full.to(device, dtype=torch.float32)\n",
        "labels = labels.to(device, dtype=torch.long)\n",
        "loss_func_full = nn.CrossEntropyLoss()\n",
        "loss_func_full.to(device)\n",
        "optimizer_full = torch.optim.Adam(nn_full.parameters(), lr=learning_rate)"
      ]
    },
    {
      "cell_type": "code",
      "execution_count": 38,
      "metadata": {
        "colab": {
          "base_uri": "https://localhost:8080/"
        },
        "id": "0BCggZXXM84_",
        "outputId": "f7180f02-f5ac-4174-f5b6-a425e031dad5"
      },
      "outputs": [
        {
          "name": "stdout",
          "output_type": "stream",
          "text": [
            "Epoch: 1, Loss: 10.7619, Accuracy: 0.09000000357627869\n",
            "Epoch: 2, Loss: 5.9147, Accuracy: 0.16833333671092987\n",
            "Epoch: 3, Loss: 3.4925, Accuracy: 0.29500001668930054\n",
            "Epoch: 4, Loss: 2.3397, Accuracy: 0.43666666746139526\n",
            "Epoch: 5, Loss: 1.7442, Accuracy: 0.5616666674613953\n",
            "Epoch: 6, Loss: 1.3418, Accuracy: 0.6516667008399963\n",
            "Epoch: 7, Loss: 1.0108, Accuracy: 0.7150000333786011\n",
            "Epoch: 8, Loss: 0.8492, Accuracy: 0.7716667056083679\n",
            "Epoch: 9, Loss: 0.7916, Accuracy: 0.7933333516120911\n",
            "Epoch: 10, Loss: 0.7138, Accuracy: 0.8066666722297668\n"
          ]
        }
      ],
      "source": [
        "train_model(nn_full, images_full, labels, optimizer_full, loss_func_full, num_epochs)"
      ]
    },
    {
      "cell_type": "markdown",
      "metadata": {
        "id": "nuYTOkD-N3OC"
      },
      "source": [
        "Prepare the testdata"
      ]
    },
    {
      "cell_type": "code",
      "execution_count": 43,
      "metadata": {
        "colab": {
          "base_uri": "https://localhost:8080/"
        },
        "id": "0U19IsyIo-0T",
        "outputId": "d4766e83-7c3f-47f6-bcbb-56a172dcb640"
      },
      "outputs": [
        {
          "name": "stdout",
          "output_type": "stream",
          "text": [
            "9999\n",
            "9999\n"
          ]
        }
      ],
      "source": [
        "import pandas as pd\n",
        "\n",
        "# Replace 'your_file.csv' with the actual filename\n",
        "data = pd.read_csv('data/mnist_test.csv')\n",
        "data=np.array(data)\n",
        "\n",
        "# test_x=[ ]\n",
        "# test_y=[ ]\n",
        "\n",
        "# for x in data:\n",
        "#   test_x.append(x[1:])\n",
        "#   test_y.append(x[0])\n",
        "\n",
        "#   test_y.append(y)\n",
        "\n",
        "test_x = torch.tensor(data[:, 1:], dtype=torch.float32).to(device)\n",
        "test_y = torch.tensor(data[:, 0]).to(device)\n",
        "\n",
        "print(len(test_x))\n",
        "print(len(test_y))\n"
      ]
    },
    {
      "cell_type": "markdown",
      "metadata": {
        "id": "A_mJQY1JN50V"
      },
      "source": [
        "Test the data"
      ]
    },
    {
      "cell_type": "code",
      "execution_count": 44,
      "metadata": {
        "id": "rdCntVjXRFuB"
      },
      "outputs": [],
      "source": [
        "def evaluate_model(model, test_images, test_labels, loss_func):\n",
        "  \"\"\"\n",
        "  Evaluates the model on the given test data and labels.\n",
        "\n",
        "  Args:\n",
        "      model (nn.Module): The PyTorch model to evaluate.\n",
        "      test_images (torch.Tensor): The test data tensor.\n",
        "      test_labels (torch.Tensor): The test labels tensor.\n",
        "      loss_func (nn.Module): The loss function to use.\n",
        "\n",
        "  Returns:\n",
        "      float: The accuracy of the model on the test data.\n",
        "      float: The loss of the model on the test data.\n",
        "  \"\"\"\n",
        "  model.eval()\n",
        "  with torch.no_grad():  # Deactivate gradient calculation for evaluation\n",
        "    predictions = model(test_images)\n",
        "    loss = loss_func(predictions, test_labels)\n",
        "    predicted_labels = torch.argmax(predictions, dim=1)\n",
        "    num_correct = (predicted_labels == test_labels).sum().item()\n",
        "    accuracy = num_correct / len(test_labels)\n",
        "    print(f\"Accuracy: {accuracy:.4f}, Loss: {loss.item():.4f}\")\n",
        "  return accuracy, loss\n"
      ]
    },
    {
      "cell_type": "markdown",
      "metadata": {
        "id": "LRP8lNIuqwFi"
      },
      "source": []
    },
    {
      "cell_type": "code",
      "execution_count": 45,
      "metadata": {
        "colab": {
          "base_uri": "https://localhost:8080/"
        },
        "id": "sFyCysVwqdnE",
        "outputId": "39747aa0-fe77-42a6-a167-75a2cb1187d3"
      },
      "outputs": [
        {
          "name": "stdout",
          "output_type": "stream",
          "text": [
            "Accuracy: 0.6610, Loss: 1.1016\n"
          ]
        },
        {
          "data": {
            "text/plain": [
              "(0.660966096609661, tensor(1.1016, device='cuda:0'))"
            ]
          },
          "execution_count": 45,
          "metadata": {},
          "output_type": "execute_result"
        }
      ],
      "source": [
        "evaluate_model(nn_linear, test_x, test_y, nn.CrossEntropyLoss())"
      ]
    },
    {
      "cell_type": "code",
      "execution_count": 46,
      "metadata": {
        "colab": {
          "base_uri": "https://localhost:8080/"
        },
        "id": "b1nfeGydrAnj",
        "outputId": "949b54f8-132c-4574-a570-a7cdd41dd807"
      },
      "outputs": [
        {
          "name": "stdout",
          "output_type": "stream",
          "text": [
            "Accuracy: 0.7218, Loss: 1.0231\n"
          ]
        },
        {
          "data": {
            "text/plain": [
              "(0.7217721772177218, tensor(1.0231, device='cuda:0'))"
            ]
          },
          "execution_count": 46,
          "metadata": {},
          "output_type": "execute_result"
        }
      ],
      "source": [
        "evaluate_model(nn_full, test_x, test_y, nn.CrossEntropyLoss())"
      ]
    },
    {
      "cell_type": "code",
      "execution_count": 62,
      "metadata": {},
      "outputs": [],
      "source": [
        "optimizer_test = torch.optim.Adam(nn_linear.parameters(), lr=learning_rate)\n",
        "loss_func_test = nn.CrossEntropyLoss()\n",
        "num_epochs = 50"
      ]
    },
    {
      "cell_type": "code",
      "execution_count": 63,
      "metadata": {},
      "outputs": [
        {
          "name": "stdout",
          "output_type": "stream",
          "text": [
            "torch.Size([9999, 784])\n"
          ]
        },
        {
          "name": "stderr",
          "output_type": "stream",
          "text": [
            "/tmp/ipykernel_1529365/3998451009.py:3: UserWarning: To copy construct from a tensor, it is recommended to use sourceTensor.clone().detach() or sourceTensor.clone().detach().requires_grad_(True), rather than torch.tensor(sourceTensor).\n",
            "  labels = torch.tensor(test_y)\n"
          ]
        }
      ],
      "source": [
        "image_test = test_x\n",
        "print(test_x.shape)\n",
        "labels = torch.tensor(test_y)"
      ]
    },
    {
      "cell_type": "code",
      "execution_count": 64,
      "metadata": {},
      "outputs": [],
      "source": [
        "nn_test = NeuralNetwork()\n",
        "nn_test.to(device)\n",
        "image_test = image_test.to(device, dtype=torch.float32)\n",
        "labels = labels.to(device, dtype=torch.long)\n",
        "loss_func_test = nn.CrossEntropyLoss()\n",
        "loss_func_test.to(device)\n",
        "optimizer_test = torch.optim.Adam(nn_test.parameters(), lr=learning_rate)"
      ]
    },
    {
      "cell_type": "code",
      "execution_count": 65,
      "metadata": {},
      "outputs": [
        {
          "name": "stdout",
          "output_type": "stream",
          "text": [
            "Epoch: 1, Loss: 10.4984, Accuracy: 0.11591159552335739\n",
            "Epoch: 2, Loss: 6.0916, Accuracy: 0.22142215073108673\n",
            "Epoch: 3, Loss: 3.0061, Accuracy: 0.37033703923225403\n",
            "Epoch: 4, Loss: 2.4279, Accuracy: 0.4749475121498108\n",
            "Epoch: 5, Loss: 1.8539, Accuracy: 0.5557555556297302\n",
            "Epoch: 6, Loss: 1.3881, Accuracy: 0.6312631368637085\n",
            "Epoch: 7, Loss: 1.2243, Accuracy: 0.6713671684265137\n",
            "Epoch: 8, Loss: 1.0122, Accuracy: 0.7273727655410767\n",
            "Epoch: 9, Loss: 0.8928, Accuracy: 0.7617762088775635\n",
            "Epoch: 10, Loss: 0.8502, Accuracy: 0.7799779772758484\n",
            "Epoch: 11, Loss: 0.7808, Accuracy: 0.7994799613952637\n",
            "Epoch: 12, Loss: 0.7024, Accuracy: 0.8172817230224609\n",
            "Epoch: 13, Loss: 0.6375, Accuracy: 0.8323832750320435\n",
            "Epoch: 14, Loss: 0.6031, Accuracy: 0.8408840894699097\n",
            "Epoch: 15, Loss: 0.5886, Accuracy: 0.8451845049858093\n",
            "Epoch: 16, Loss: 0.5685, Accuracy: 0.8490849137306213\n",
            "Epoch: 17, Loss: 0.5282, Accuracy: 0.8584858775138855\n",
            "Epoch: 18, Loss: 0.4823, Accuracy: 0.8685868382453918\n",
            "Epoch: 19, Loss: 0.4513, Accuracy: 0.8756875991821289\n",
            "Epoch: 20, Loss: 0.4332, Accuracy: 0.8780878186225891\n",
            "Epoch: 21, Loss: 0.4134, Accuracy: 0.8835883736610413\n",
            "Epoch: 22, Loss: 0.3881, Accuracy: 0.8905890583992004\n",
            "Epoch: 23, Loss: 0.3670, Accuracy: 0.8968896865844727\n",
            "Epoch: 24, Loss: 0.3536, Accuracy: 0.9000900387763977\n",
            "Epoch: 25, Loss: 0.3432, Accuracy: 0.8996899724006653\n",
            "Epoch: 26, Loss: 0.3301, Accuracy: 0.9026902914047241\n",
            "Epoch: 27, Loss: 0.3141, Accuracy: 0.9079908132553101\n",
            "Epoch: 28, Loss: 0.2978, Accuracy: 0.911791205406189\n",
            "Epoch: 29, Loss: 0.2835, Accuracy: 0.9161916375160217\n",
            "Epoch: 30, Loss: 0.2716, Accuracy: 0.917891800403595\n",
            "Epoch: 31, Loss: 0.2620, Accuracy: 0.9214921593666077\n",
            "Epoch: 32, Loss: 0.2536, Accuracy: 0.9227923154830933\n",
            "Epoch: 33, Loss: 0.2453, Accuracy: 0.9241924285888672\n",
            "Epoch: 34, Loss: 0.2364, Accuracy: 0.927192747592926\n",
            "Epoch: 35, Loss: 0.2274, Accuracy: 0.930092990398407\n",
            "Epoch: 36, Loss: 0.2191, Accuracy: 0.9309930801391602\n",
            "Epoch: 37, Loss: 0.2125, Accuracy: 0.9329932928085327\n",
            "Epoch: 38, Loss: 0.2069, Accuracy: 0.933993399143219\n",
            "Epoch: 39, Loss: 0.2010, Accuracy: 0.9361936450004578\n",
            "Epoch: 40, Loss: 0.1943, Accuracy: 0.9380938410758972\n",
            "Epoch: 41, Loss: 0.1875, Accuracy: 0.9406940937042236\n",
            "Epoch: 42, Loss: 0.1815, Accuracy: 0.9422942399978638\n",
            "Epoch: 43, Loss: 0.1765, Accuracy: 0.9428942799568176\n",
            "Epoch: 44, Loss: 0.1715, Accuracy: 0.9447944760322571\n",
            "Epoch: 45, Loss: 0.1662, Accuracy: 0.9464946389198303\n",
            "Epoch: 46, Loss: 0.1607, Accuracy: 0.9483948349952698\n",
            "Epoch: 47, Loss: 0.1557, Accuracy: 0.9507951140403748\n",
            "Epoch: 48, Loss: 0.1514, Accuracy: 0.9526952505111694\n",
            "Epoch: 49, Loss: 0.1474, Accuracy: 0.9535953402519226\n",
            "Epoch: 50, Loss: 0.1434, Accuracy: 0.9550955295562744\n"
          ]
        }
      ],
      "source": [
        "train_model(nn_test, test_x, test_y, optimizer_test, loss_func_test, num_epochs)"
      ]
    },
    {
      "cell_type": "code",
      "execution_count": 69,
      "metadata": {},
      "outputs": [
        {
          "name": "stdout",
          "output_type": "stream",
          "text": [
            "torch.Size([600, 784])\n",
            "torch.Size([600, 784])\n"
          ]
        }
      ],
      "source": [
        "print(images_linear.shape)\n",
        "print(images_full.shape)"
      ]
    },
    {
      "cell_type": "code",
      "execution_count": 90,
      "metadata": {},
      "outputs": [],
      "source": [
        "images_linear = []\n",
        "for image in image_linear_train:\n",
        "  images_linear.append(image.squeeze())\n",
        "images_linear = torch.stack(images_linear).to(device, dtype=torch.float32)\n",
        "\n",
        "labels_linear = torch.tensor(train_y).to(device, dtype=torch.long)"
      ]
    },
    {
      "cell_type": "code",
      "execution_count": 91,
      "metadata": {},
      "outputs": [],
      "source": [
        "images_full = []\n",
        "for image in image_full_train:\n",
        "  images_full.append(image.squeeze())\n",
        "images_full = torch.stack(images_full).to(device, dtype=torch.float32)\n",
        "\n",
        "labels_full = torch.tensor(train_y).to(device, dtype=torch.long)"
      ]
    },
    {
      "cell_type": "code",
      "execution_count": 92,
      "metadata": {},
      "outputs": [
        {
          "name": "stdout",
          "output_type": "stream",
          "text": [
            "Accuracy: 0.8700, Loss: 0.6463\n"
          ]
        },
        {
          "data": {
            "text/plain": [
              "(0.87, tensor(0.6463, device='cuda:0'))"
            ]
          },
          "execution_count": 92,
          "metadata": {},
          "output_type": "execute_result"
        }
      ],
      "source": [
        "evaluate_model(nn_test, images_linear, labels_linear, nn.CrossEntropyLoss())"
      ]
    },
    {
      "cell_type": "code",
      "execution_count": 93,
      "metadata": {},
      "outputs": [
        {
          "name": "stdout",
          "output_type": "stream",
          "text": [
            "Accuracy: 0.8633, Loss: 0.5982\n"
          ]
        },
        {
          "data": {
            "text/plain": [
              "(0.8633333333333333, tensor(0.5982, device='cuda:0'))"
            ]
          },
          "execution_count": 93,
          "metadata": {},
          "output_type": "execute_result"
        }
      ],
      "source": [
        "evaluate_model(nn_test, images_full, labels_full, nn.CrossEntropyLoss())"
      ]
    }
  ],
  "metadata": {
    "colab": {
      "include_colab_link": true,
      "provenance": []
    },
    "kernelspec": {
      "display_name": "Python 3",
      "name": "python3"
    },
    "language_info": {
      "codemirror_mode": {
        "name": "ipython",
        "version": 3
      },
      "file_extension": ".py",
      "mimetype": "text/x-python",
      "name": "python",
      "nbconvert_exporter": "python",
      "pygments_lexer": "ipython3",
      "version": "3.10.12"
    }
  },
  "nbformat": 4,
  "nbformat_minor": 0
}
